{
 "cells": [
  {
   "cell_type": "code",
   "execution_count": 1,
   "metadata": {},
   "outputs": [
    {
     "name": "stdout",
     "output_type": "stream",
     "text": [
      "Pakistan Zinda Bad\n",
      "We are pakistani\n"
     ]
    }
   ],
   "source": [
    "print(\"Pakistan Zinda Bad\")\n",
    "print(\"We are pakistani\")"
   ]
  },
  {
   "cell_type": "code",
   "execution_count": 2,
   "metadata": {},
   "outputs": [
    {
     "name": "stdout",
     "output_type": "stream",
     "text": [
      "Bahria University\n"
     ]
    }
   ],
   "source": [
    "print(\"Bahria University\")"
   ]
  },
  {
   "cell_type": "markdown",
   "metadata": {},
   "source": [
    "# Bahria University Islamabad"
   ]
  },
  {
   "cell_type": "markdown",
   "metadata": {},
   "source": [
    "- 12:15 to 3:15"
   ]
  },
  {
   "cell_type": "markdown",
   "metadata": {},
   "source": [
    "# PIAIC Islamabad AI Quater 1, Batch 3 "
   ]
  },
  {
   "cell_type": "markdown",
   "metadata": {},
   "source": [
    "- timing 12:15 to 03:15 AM"
   ]
  },
  {
   "cell_type": "markdown",
   "metadata": {},
   "source": []
  },
  {
   "cell_type": "markdown",
   "metadata": {},
   "source": [
    "# IT Expert by Sir Muhammad Qasim (PIAIC Bahria University Islamabad)"
   ]
  },
  {
   "cell_type": "markdown",
   "metadata": {},
   "source": [
    "- Only every Sunday classes"
   ]
  },
  {
   "cell_type": "code",
   "execution_count": 6,
   "metadata": {},
   "outputs": [
    {
     "name": "stdout",
     "output_type": "stream",
     "text": [
      "\n",
      "PIAIC ISLAMABAD BARCH3\n",
      "NAME: MUHAMMAD SUFIYAN MEHBOOB\n",
      "FATHER NAME: GHULAM SAMDANI\n",
      "UNIVERSITY: BAHRIA UNIVERSITY\n",
      "\n",
      "\n"
     ]
    }
   ],
   "source": [
    "\n",
    "name = \"MUHAMMAD SUFIYAN MEHBOOB\"\n",
    "father_name = \"GHULAM SAMDANI\"\n",
    "uni = \"BAHRIA UNIVERSITY\"\n",
    "\n",
    "\n",
    "\n",
    "message = \"\"\"\n",
    "PIAIC ISLAMABAD BARCH3\n",
    "NAME: {}\n",
    "FATHER NAME: {}\n",
    "UNIVERSITY: {}\n",
    "\n",
    "\"\"\"\n",
    "\n",
    "message1 = message.format(name, father_name, uni)\n",
    "\n",
    "\n",
    "print(message1)"
   ]
  },
  {
   "cell_type": "code",
   "execution_count": 1,
   "metadata": {},
   "outputs": [
    {
     "name": "stdout",
     "output_type": "stream",
     "text": [
      "\n",
      "PIAIC ISLAMABAD BARCH3\n",
      "NAME: MUHAMMAD SUFIYAN MEHBOOB\n",
      "FATHER NAME: GHULAM SAMDANI\n",
      "UNIVERSITY: BAHRIA UNIVERSITY\n",
      "SUBJECT: Introduction to Computing, Computer Programming, Object Oriented Programming, Advanced Computer Programming\n",
      "MARKS: 100, 300, 400, 500\n",
      "TOTAL_MARKS: 1300\n",
      "PERCENTAGE: 32500.0\n",
      "\n",
      "\n"
     ]
    }
   ],
   "source": [
    "name = \"MUHAMMAD SUFIYAN MEHBOOB\"\n",
    "father_name = \"GHULAM SAMDANI\"\n",
    "uni = \"BAHRIA UNIVERSITY\"\n",
    "subject = \"Introduction to Computing, Computer Programming, Object Oriented Programming, Advanced Computer Programming\"\n",
    "marks = \"100, 300, 400, 500\"\n",
    "\n",
    "Total_marks = (100+300+400+500)\n",
    "\n",
    "percentage = (Total_marks/4*100)\n",
    "\n",
    "\n",
    "\n",
    "message = \"\"\"\n",
    "PIAIC ISLAMABAD BARCH3\n",
    "NAME: {}\n",
    "FATHER NAME: {}\n",
    "UNIVERSITY: {}\n",
    "SUBJECT: {}\n",
    "MARKS: {}\n",
    "TOTAL_MARKS: {}\n",
    "PERCENTAGE: {}\n",
    "\n",
    "\"\"\"\n",
    "\n",
    "message1 = message.format(name, father_name, uni, subject, marks, Total_marks, percentage)\n",
    "\n",
    "\n",
    "print(message1)"
   ]
  },
  {
   "cell_type": "code",
   "execution_count": null,
   "metadata": {},
   "outputs": [],
   "source": []
  },
  {
   "cell_type": "code",
   "execution_count": null,
   "metadata": {},
   "outputs": [],
   "source": []
  },
  {
   "cell_type": "code",
   "execution_count": null,
   "metadata": {},
   "outputs": [],
   "source": []
  },
  {
   "cell_type": "code",
   "execution_count": null,
   "metadata": {},
   "outputs": [],
   "source": []
  },
  {
   "cell_type": "code",
   "execution_count": null,
   "metadata": {},
   "outputs": [],
   "source": []
  },
  {
   "cell_type": "code",
   "execution_count": null,
   "metadata": {},
   "outputs": [],
   "source": []
  },
  {
   "cell_type": "code",
   "execution_count": null,
   "metadata": {},
   "outputs": [],
   "source": []
  },
  {
   "cell_type": "code",
   "execution_count": null,
   "metadata": {},
   "outputs": [],
   "source": []
  },
  {
   "cell_type": "code",
   "execution_count": null,
   "metadata": {},
   "outputs": [],
   "source": []
  },
  {
   "cell_type": "code",
   "execution_count": null,
   "metadata": {},
   "outputs": [],
   "source": []
  },
  {
   "cell_type": "code",
   "execution_count": null,
   "metadata": {},
   "outputs": [],
   "source": []
  },
  {
   "cell_type": "code",
   "execution_count": null,
   "metadata": {},
   "outputs": [],
   "source": []
  },
  {
   "cell_type": "code",
   "execution_count": null,
   "metadata": {},
   "outputs": [],
   "source": []
  }
 ],
 "metadata": {
  "kernelspec": {
   "display_name": "Python 3",
   "language": "python",
   "name": "python3"
  },
  "language_info": {
   "codemirror_mode": {
    "name": "ipython",
    "version": 3
   },
   "file_extension": ".py",
   "mimetype": "text/x-python",
   "name": "python",
   "nbconvert_exporter": "python",
   "pygments_lexer": "ipython3",
   "version": "3.7.4"
  }
 },
 "nbformat": 4,
 "nbformat_minor": 2
}
